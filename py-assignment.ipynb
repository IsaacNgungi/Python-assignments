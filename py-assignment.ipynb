{
 "cells": [
  {
   "cell_type": "markdown",
   "id": "aeae60ea",
   "metadata": {},
   "source": [
    "#### Let's start with a pretty conceptual example. Let's consider the following sets:\n",
    "\n",
    "- Ω= positive integers between [1, 12]\n",
    "- A= even numbers between [1, 10]\n",
    "- B =3,8,11,12\n",
    "- C =2,3,6,8,9,11\n"
   ]
  },
  {
   "cell_type": "code",
   "execution_count": 70,
   "id": "e64e5b18",
   "metadata": {},
   "outputs": [],
   "source": [
    "U={1,2,3,4,5,6,7,8,9,10,11,12}\n",
    "A={2,4,6,8,10}\n",
    "B={3,8,11,12}\n",
    "C={2,3,6,8,9,11}"
   ]
  },
  {
   "cell_type": "code",
   "execution_count": 71,
   "id": "a31d9f6f",
   "metadata": {},
   "outputs": [],
   "source": [
    "import math\n",
    "import pandas as pd\n",
    "import matplotlib.pyplot as plt\n",
    "from matplotlib_venn import venn3"
   ]
  },
  {
   "cell_type": "code",
   "execution_count": 72,
   "id": "5773cc35",
   "metadata": {},
   "outputs": [
    {
     "data": {
      "text/plain": [
       "\"Type A: <class 'set'>, A: {2, 4, 6, 8, 10}\""
      ]
     },
     "execution_count": 72,
     "metadata": {},
     "output_type": "execute_result"
    }
   ],
   "source": [
    "f'Type A: {type(A)}, A: {A}'"
   ]
  },
  {
   "cell_type": "code",
   "execution_count": 73,
   "id": "e2e04ee5",
   "metadata": {},
   "outputs": [
    {
     "data": {
      "text/plain": [
       "\"Type B: <class 'set'>, B: {8, 3, 11, 12}\""
      ]
     },
     "execution_count": 73,
     "metadata": {},
     "output_type": "execute_result"
    }
   ],
   "source": [
    "f'Type B: {type(B)}, B: {B}'"
   ]
  },
  {
   "cell_type": "code",
   "execution_count": 74,
   "id": "86c9f2e6",
   "metadata": {},
   "outputs": [
    {
     "data": {
      "text/plain": [
       "\"Type C: <class 'set'>, C: {2, 3, 6, 8, 9, 11}\""
      ]
     },
     "execution_count": 74,
     "metadata": {},
     "output_type": "execute_result"
    }
   ],
   "source": [
    "f'Type C: {type(C)}, C: {C}'"
   ]
  },
  {
   "cell_type": "code",
   "execution_count": 75,
   "id": "711c7a0b",
   "metadata": {},
   "outputs": [
    {
     "data": {
      "text/plain": [
       "\"Type U: <class 'set'>, A: {1, 2, 3, 4, 5, 6, 7, 8, 9, 10, 11, 12}\""
      ]
     },
     "execution_count": 75,
     "metadata": {},
     "output_type": "execute_result"
    }
   ],
   "source": [
    "f'Type U: {type(U)}, A: {U}' "
   ]
  },
  {
   "cell_type": "markdown",
   "id": "b23ccccb",
   "metadata": {},
   "source": [
    "#### Question 1\n",
    "- Intersection A and B\n"
   ]
  },
  {
   "cell_type": "code",
   "execution_count": 76,
   "id": "4657ad31",
   "metadata": {},
   "outputs": [
    {
     "data": {
      "text/plain": [
       "{8}"
      ]
     },
     "execution_count": 76,
     "metadata": {},
     "output_type": "execute_result"
    }
   ],
   "source": [
    "A & B"
   ]
  },
  {
   "cell_type": "code",
   "execution_count": 77,
   "id": "c447d1c2",
   "metadata": {},
   "outputs": [
    {
     "data": {
      "text/plain": [
       "{2, 3, 4, 6, 8, 9, 10, 11}"
      ]
     },
     "execution_count": 77,
     "metadata": {},
     "output_type": "execute_result"
    }
   ],
   "source": [
    "# find the union of A and C\n",
    "A|C"
   ]
  },
  {
   "cell_type": "code",
   "execution_count": 78,
   "id": "eccdfa6e",
   "metadata": {},
   "outputs": [
    {
     "data": {
      "text/plain": [
       "{1, 3, 5, 7, 9, 11, 12}"
      ]
     },
     "execution_count": 78,
     "metadata": {},
     "output_type": "execute_result"
    }
   ],
   "source": [
    "# Find the complement of U - A\n",
    "U-A"
   ]
  },
  {
   "cell_type": "code",
   "execution_count": 79,
   "id": "fe0fe97f",
   "metadata": {},
   "outputs": [
    {
     "data": {
      "text/plain": [
       "{1, 2, 4, 5, 6, 7, 9, 10}"
      ]
     },
     "execution_count": 79,
     "metadata": {},
     "output_type": "execute_result"
    }
   ],
   "source": [
    "# Find the absolute complement of B\n",
    "U-B"
   ]
  },
  {
   "cell_type": "code",
   "execution_count": 80,
   "id": "b52a7f43",
   "metadata": {},
   "outputs": [
    {
     "data": {
      "text/plain": [
       "{1, 5, 7, 9}"
      ]
     },
     "execution_count": 80,
     "metadata": {},
     "output_type": "execute_result"
    }
   ],
   "source": [
    "# Find the complement A union B\n",
    "U - (A|B)"
   ]
  },
  {
   "cell_type": "code",
   "execution_count": 81,
   "id": "3be4d238",
   "metadata": {},
   "outputs": [
    {
     "data": {
      "text/plain": [
       "{12}"
      ]
     },
     "execution_count": 81,
     "metadata": {},
     "output_type": "execute_result"
    }
   ],
   "source": [
    "# Find the intersection of B and compliment C\n",
    "B & (U-C)"
   ]
  },
  {
   "cell_type": "code",
   "execution_count": 82,
   "id": "16b83af5",
   "metadata": {},
   "outputs": [
    {
     "data": {
      "text/plain": [
       "{2, 4, 6, 10}"
      ]
     },
     "execution_count": 82,
     "metadata": {},
     "output_type": "execute_result"
    }
   ],
   "source": [
    "# Find the relative complement of \n",
    "A-B"
   ]
  },
  {
   "cell_type": "code",
   "execution_count": 83,
   "id": "e61b2823",
   "metadata": {},
   "outputs": [
    {
     "data": {
      "text/plain": [
       "{2, 6, 8, 9}"
      ]
     },
     "execution_count": 83,
     "metadata": {},
     "output_type": "execute_result"
    }
   ],
   "source": [
    "# C\\(B\\A)\n",
    "C-(B-A)"
   ]
  },
  {
   "cell_type": "code",
   "execution_count": 84,
   "id": "871e86a1",
   "metadata": {},
   "outputs": [
    {
     "data": {
      "text/plain": [
       "4"
      ]
     },
     "execution_count": 84,
     "metadata": {},
     "output_type": "execute_result"
    }
   ],
   "source": [
    "len(((C&A)|(C-B)))"
   ]
  },
  {
   "cell_type": "markdown",
   "id": "0a456c08",
   "metadata": {},
   "source": [
    "∣\n",
    "A\n",
    "∪\n",
    "B\n",
    "∪\n",
    "C\n",
    "∣=∣\n",
    "A\n",
    "∣\n",
    "+\n",
    "∣\n",
    "B\n",
    "∣\n",
    "+\n",
    "∣\n",
    "C\n",
    "∣\n",
    "−\n",
    "∣\n",
    "A\n",
    "∩\n",
    "B\n",
    "∣\n",
    "−\n",
    "∣\n",
    "A\n",
    "∩\n",
    "C\n",
    "∣\n",
    "−\n",
    "∣\n",
    "B\n",
    "∩\n",
    "C\n",
    "∣\n",
    "+\n",
    "∣\n",
    "A\n",
    "∩\n",
    "B\n",
    "∩\n",
    "C\n",
    "∣"
   ]
  },
  {
   "cell_type": "code",
   "execution_count": 85,
   "id": "a18ca13c",
   "metadata": {},
   "outputs": [
    {
     "name": "stdout",
     "output_type": "stream",
     "text": [
      "9\n"
     ]
    }
   ],
   "source": [
    "# set A\n",
    "left_hand_eq=len(A.union(B,C))\n",
    "print(left_hand_eq)"
   ]
  },
  {
   "cell_type": "code",
   "execution_count": 86,
   "id": "d0386bd4",
   "metadata": {},
   "outputs": [
    {
     "name": "stdout",
     "output_type": "stream",
     "text": [
      "9\n"
     ]
    }
   ],
   "source": [
    "Total =len(A) + len(B) + len(C)-len(A&B)-len(A&C)-len(B&C) + len(A&B&C)\n",
    "print (Total)"
   ]
  },
  {
   "cell_type": "code",
   "execution_count": 87,
   "id": "9ae99734",
   "metadata": {},
   "outputs": [
    {
     "name": "stdout",
     "output_type": "stream",
     "text": [
      "True\n"
     ]
    }
   ],
   "source": [
    "print(left_hand_eq==Total)"
   ]
  },
  {
   "cell_type": "code",
   "execution_count": 88,
   "id": "91aaf0f0",
   "metadata": {},
   "outputs": [],
   "source": [
    "Nina = set([\"Cat\",\"Dog\",\"Rabbit\",\"Donkey\",\"Parrot\", \"Goldfish\"])\n",
    "Mary = set([\"Dog\",\"Chinchilla\",\"Horse\", \"Chicken\"])\n",
    "Eve = set([\"Rabbit\", \"Turtle\", \"Goldfish\"])"
   ]
  },
  {
   "cell_type": "code",
   "execution_count": 89,
   "id": "9633c55b",
   "metadata": {},
   "outputs": [
    {
     "name": "stdout",
     "output_type": "stream",
     "text": [
      "{'Goldfish', 'Rabbit'}\n"
     ]
    }
   ],
   "source": [
    "Eve = set([\"Rabbit\", \"Turtle\", \"Goldfish\"])\n",
    "Eve.remove(\"Turtle\")\n",
    "print(Eve)\n"
   ]
  },
  {
   "cell_type": "code",
   "execution_count": 90,
   "id": "919f2e29",
   "metadata": {},
   "outputs": [
    {
     "name": "stdout",
     "output_type": "stream",
     "text": [
      "{'Donkey', 'Goldfish', 'Chicken', 'Dog', 'Rabbit', 'Chinchilla', 'Horse', 'Cat', 'Parrot'}\n"
     ]
    }
   ],
   "source": [
    "Nina.update(Mary)\n",
    "print(Nina)"
   ]
  },
  {
   "cell_type": "code",
   "execution_count": 91,
   "id": "6f57a34a",
   "metadata": {},
   "outputs": [
    {
     "name": "stdout",
     "output_type": "stream",
     "text": [
      "set()\n"
     ]
    }
   ],
   "source": [
    "Mary.clear()\n",
    "print(Mary)"
   ]
  },
  {
   "cell_type": "code",
   "execution_count": 92,
   "id": "dab1510b",
   "metadata": {},
   "outputs": [
    {
     "name": "stdout",
     "output_type": "stream",
     "text": [
      "9\n"
     ]
    }
   ],
   "source": [
    "species=len(Nina)\n",
    "print(species)"
   ]
  },
  {
   "cell_type": "code",
   "execution_count": 93,
   "id": "66f1e0e5",
   "metadata": {},
   "outputs": [
    {
     "name": "stdout",
     "output_type": "stream",
     "text": [
      "{'Donkey', 'Chicken', 'Dog', 'Chinchilla', 'Horse', 'Cat', 'Parrot'}\n"
     ]
    },
    {
     "data": {
      "text/plain": [
       "7"
      ]
     },
     "execution_count": 93,
     "metadata": {},
     "output_type": "execute_result"
    }
   ],
   "source": [
    "Nina.difference_update(Eve)\n",
    "print(Nina)\n",
    "len(Nina)"
   ]
  }
 ],
 "metadata": {
  "kernelspec": {
   "display_name": "base",
   "language": "python",
   "name": "python3"
  },
  "language_info": {
   "codemirror_mode": {
    "name": "ipython",
    "version": 3
   },
   "file_extension": ".py",
   "mimetype": "text/x-python",
   "name": "python",
   "nbconvert_exporter": "python",
   "pygments_lexer": "ipython3",
   "version": "3.12.7"
  }
 },
 "nbformat": 4,
 "nbformat_minor": 5
}
